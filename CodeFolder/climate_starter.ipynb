{
 "cells": [
  {
   "cell_type": "code",
   "execution_count": 428,
   "metadata": {},
   "outputs": [],
   "source": [
    "%matplotlib inline\n",
    "from matplotlib import style\n",
    "style.use('fivethirtyeight')\n",
    "import matplotlib.pyplot as plt"
   ]
  },
  {
   "cell_type": "code",
   "execution_count": 429,
   "metadata": {},
   "outputs": [],
   "source": [
    "import numpy as np\n",
    "import pandas as pd\n",
    "import datetime as dt"
   ]
  },
  {
   "cell_type": "markdown",
   "metadata": {},
   "source": [
    "# Reflect Tables into SQLAlchemy ORM"
   ]
  },
  {
   "cell_type": "code",
   "execution_count": 430,
   "metadata": {},
   "outputs": [],
   "source": [
    "# Python SQL toolkit and Object Relational Mapper\n",
    "\n",
    "import sqlalchemy\n",
    "from sqlalchemy.ext.automap import automap_base\n",
    "from sqlalchemy.orm import Session\n",
    "from sqlalchemy import create_engine, func , inspect\n",
    "from sqlalchemy import Column, Integer, String, Float\n",
    "from sqlalchemy.ext.declarative import declarative_base\n",
    "Base = declarative_base()\n",
    "from flask import Flask\n",
    "from sqlalchemy.sql import func\n",
    " \n",
    "app = Flask(__name__)"
   ]
  },
  {
   "cell_type": "code",
   "execution_count": 431,
   "metadata": {},
   "outputs": [],
   "source": [
    "# Create engine to hawaii.sqlite\n",
    "\n",
    "engine = create_engine(\"sqlite:///Resources/hawaii.sqlite\")"
   ]
  },
  {
   "cell_type": "code",
   "execution_count": 432,
   "metadata": {},
   "outputs": [],
   "source": [
    "# Declare a Base\n",
    "\n",
    "Base = automap_base()"
   ]
  },
  {
   "cell_type": "code",
   "execution_count": 433,
   "metadata": {},
   "outputs": [],
   "source": [
    "# Reflect an existing database into a new model\n",
    "\n",
    "existing_tables = Base.prepare(engine, reflect=True)"
   ]
  },
  {
   "cell_type": "code",
   "execution_count": 434,
   "metadata": {},
   "outputs": [
    {
     "data": {
      "text/plain": [
       "['measurement', 'station']"
      ]
     },
     "execution_count": 434,
     "metadata": {},
     "output_type": "execute_result"
    }
   ],
   "source": [
    "# View all of the classes that automap found\n",
    "\n",
    "Base.classes.keys()"
   ]
  },
  {
   "cell_type": "code",
   "execution_count": 435,
   "metadata": {},
   "outputs": [
    {
     "data": {
      "text/plain": [
       "['measurement', 'station']"
      ]
     },
     "execution_count": 435,
     "metadata": {},
     "output_type": "execute_result"
    }
   ],
   "source": [
    "inspector = inspect(engine)\n",
    "inspector.get_table_names()"
   ]
  },
  {
   "cell_type": "code",
   "execution_count": 436,
   "metadata": {},
   "outputs": [
    {
     "name": "stdout",
     "output_type": "stream",
     "text": [
      "id INTEGER\n",
      "station TEXT\n",
      "date TEXT\n",
      "prcp FLOAT\n",
      "tobs FLOAT\n"
     ]
    }
   ],
   "source": [
    "measurement_view = inspector.get_columns('measurement')\n",
    "for columns in measurement_view:\n",
    "    print(columns['name'], columns['type'])"
   ]
  },
  {
   "cell_type": "code",
   "execution_count": 437,
   "metadata": {},
   "outputs": [
    {
     "name": "stdout",
     "output_type": "stream",
     "text": [
      "id ['type']\n",
      "station ['type']\n",
      "name ['type']\n",
      "latitude ['type']\n",
      "longitude ['type']\n",
      "elevation ['type']\n"
     ]
    }
   ],
   "source": [
    "station_view = inspector.get_columns('station')\n",
    "for columns in station_view:\n",
    "    print(columns['name'], ['type'])"
   ]
  },
  {
   "cell_type": "code",
   "execution_count": 438,
   "metadata": {},
   "outputs": [],
   "source": [
    "# Save references to each table\n",
    "\n",
    "measurement = Base.classes.measurement\n",
    "station = Base.classes.station"
   ]
  },
  {
   "cell_type": "code",
   "execution_count": 439,
   "metadata": {},
   "outputs": [],
   "source": [
    "# Create our session (link) from Python to the DB\n",
    "\n",
    "session = Session(engine)"
   ]
  },
  {
   "cell_type": "markdown",
   "metadata": {},
   "source": [
    "# Exploratory Precipitation Analysis"
   ]
  },
  {
   "cell_type": "code",
   "execution_count": 440,
   "metadata": {},
   "outputs": [
    {
     "name": "stdout",
     "output_type": "stream",
     "text": [
      "{'_sa_instance_state': <sqlalchemy.orm.state.InstanceState object at 0x7fb2e63fd390>, 'longitude': -157.8168, 'name': 'WAIKIKI 717.2, HI US', 'station': 'USC00519397', 'elevation': 3.0, 'latitude': 21.2716, 'id': 1}\n",
      "{'_sa_instance_state': <sqlalchemy.orm.state.InstanceState object at 0x7fb2e63fd908>, 'id': 1, 'tobs': 65.0, 'date': '2010-01-01', 'prcp': 0.08, 'station': 'USC00519397'}\n"
     ]
    }
   ],
   "source": [
    "# Print the first row to review the column titles for each item\n",
    "\n",
    "row_s = session.query(station).first()\n",
    "print(row_s.__dict__)\n",
    "\n",
    "row_m = session.query(measurement).first()\n",
    "print(row_m.__dict__)"
   ]
  },
  {
   "cell_type": "code",
   "execution_count": 441,
   "metadata": {},
   "outputs": [
    {
     "name": "stdout",
     "output_type": "stream",
     "text": [
      "('2017-08-23',)\n"
     ]
    }
   ],
   "source": [
    "# Find the most recent date in the data set.\n",
    "\n",
    "most_recent = engine.execute(\"SELECT max(date) FROM measurement\").fetchall()\n",
    "for record in most_recent:\n",
    "    print(record)"
   ]
  },
  {
   "cell_type": "code",
   "execution_count": 442,
   "metadata": {},
   "outputs": [
    {
     "name": "stdout",
     "output_type": "stream",
     "text": [
      "2016-08-23\n"
     ]
    }
   ],
   "source": [
    "# Design a query to retrieve the last 12 months of precipitation data and plot the results. \n",
    "# Starting from the most recent data point in the database. \n",
    "\n",
    "# Calculate the date one year from the last date in data set.\n",
    "query_one_year = dt.date(2017, 8, 23) - dt.timedelta(days=365)\n",
    "print(query_one_year)"
   ]
  },
  {
   "cell_type": "code",
   "execution_count": 443,
   "metadata": {},
   "outputs": [],
   "source": [
    "# Perform a query to retrieve the date and precipitation scores\n",
    "\n",
    "rain_scores = session.query(measurement.prcp, measurement.date).\\\n",
    "    filter(measurement.date >= '2016-08-23')"
   ]
  },
  {
   "cell_type": "code",
   "execution_count": 444,
   "metadata": {},
   "outputs": [
    {
     "name": "stdout",
     "output_type": "stream",
     "text": [
      "   prcp        date\n",
      "0  0.00  2016-08-23\n",
      "1  0.08  2016-08-24\n",
      "2  0.08  2016-08-25\n",
      "3  0.00  2016-08-26\n",
      "4  0.00  2016-08-27\n"
     ]
    }
   ],
   "source": [
    "# Save the query results as a Pandas DataFrame and set the index to the date column\n",
    "\n",
    "rain_scores_df = pd.DataFrame(rain_scores)\n",
    "print(rain_scores_df.head())"
   ]
  },
  {
   "cell_type": "code",
   "execution_count": 445,
   "metadata": {},
   "outputs": [
    {
     "name": "stdout",
     "output_type": "stream",
     "text": [
      "      prcp        date\n",
      "2229  0.45  2017-08-23\n",
      "1528  0.08  2017-08-23\n",
      "1008  0.00  2017-08-23\n",
      "360   0.00  2017-08-23\n",
      "1527  0.00  2017-08-22\n",
      "...    ...         ...\n",
      "361   0.15  2016-08-23\n",
      "1881  0.70  2016-08-23\n",
      "1192  0.02  2016-08-23\n",
      "1009   NaN  2016-08-23\n",
      "0     0.00  2016-08-23\n",
      "\n",
      "[2230 rows x 2 columns]\n"
     ]
    }
   ],
   "source": [
    "# Sort the dataframe by date\n",
    "\n",
    "print(rain_scores_df.sort_values(by=\"date\", ascending=False))"
   ]
  },
  {
   "cell_type": "code",
   "execution_count": 446,
   "metadata": {},
   "outputs": [
    {
     "name": "stdout",
     "output_type": "stream",
     "text": [
      "      prcp        date\n",
      "0     0.00  2016-08-23\n",
      "1     0.08  2016-08-24\n",
      "2     0.08  2016-08-25\n",
      "3     0.00  2016-08-26\n",
      "4     0.00  2016-08-27\n",
      "...    ...         ...\n",
      "2225  0.09  2017-08-19\n",
      "2226  0.00  2017-08-20\n",
      "2227  0.56  2017-08-21\n",
      "2228  0.50  2017-08-22\n",
      "2229  0.45  2017-08-23\n",
      "\n",
      "[2230 rows x 2 columns]\n"
     ]
    }
   ],
   "source": [
    "#Remove Nan fields\n",
    "\n",
    "new_rain_scores_df = rain_scores_df.fillna(0)\n",
    "print(new_rain_scores_df)"
   ]
  },
  {
   "cell_type": "code",
   "execution_count": 447,
   "metadata": {},
   "outputs": [
    {
     "name": "stdout",
     "output_type": "stream",
     "text": [
      "      prcp        date\n",
      "2229  0.45  2017-08-23\n",
      "1528  0.08  2017-08-23\n",
      "1008  0.00  2017-08-23\n",
      "360   0.00  2017-08-23\n",
      "1527  0.00  2017-08-22\n",
      "...    ...         ...\n",
      "361   0.15  2016-08-23\n",
      "1881  0.70  2016-08-23\n",
      "1192  0.02  2016-08-23\n",
      "1009  0.00  2016-08-23\n",
      "0     0.00  2016-08-23\n",
      "\n",
      "[2230 rows x 2 columns]\n"
     ]
    }
   ],
   "source": [
    "# Sorting New Dataframe \n",
    "\n",
    "final_rain_scores_dataframe = new_rain_scores_df.sort_values(by=\"date\", ascending=False)\n",
    "print(final_rain_scores_dataframe)"
   ]
  },
  {
   "cell_type": "code",
   "execution_count": 448,
   "metadata": {},
   "outputs": [
    {
     "data": {
      "image/png": "[encoded data removed]",
      "text/plain": [
       "<Figure size 864x720 with 1 Axes>"
      ]
     },
     "metadata": {},
     "output_type": "display_data"
    }
   ],
   "source": [
    "ax = new_rain_scores_df.plot(figsize = (12,10), legend=True)\n",
    "plt.tight_layout()\n",
    "plt.xlabel(\"DATE\")\n",
    "plt.ylabel(\"INCHES\")\n",
    "plt.title(\"Rain Inches 8/23/2016 - 8/23/2017\")\n",
    "plt.setp(ax.get_xticklabels(), visible=False)\n",
    "plt.show()"
   ]
  },
  {
   "cell_type": "code",
   "execution_count": 449,
   "metadata": {},
   "outputs": [
    {
     "name": "stdout",
     "output_type": "stream",
     "text": [
      "              prcp\n",
      "count  2230.000000\n",
      "mean      0.160664\n",
      "std       0.442067\n",
      "min       0.000000\n",
      "25%       0.000000\n",
      "50%       0.010000\n",
      "75%       0.110000\n",
      "max       6.700000\n"
     ]
    }
   ],
   "source": [
    "# Use Pandas to calcualte the summary statistics for the precipitation data\n",
    "\n",
    "print(final_rain_scores_dataframe.describe())"
   ]
  },
  {
   "cell_type": "markdown",
   "metadata": {},
   "source": [
    "# Exploratory Station Analysis"
   ]
  },
  {
   "cell_type": "code",
   "execution_count": 450,
   "metadata": {},
   "outputs": [
    {
     "name": "stdout",
     "output_type": "stream",
     "text": [
      "9\n"
     ]
    }
   ],
   "source": [
    "# Design a query to calculate the total number stations in the dataset\n",
    "\n",
    "total_stations = session.query(station.name).count()\n",
    "print(total_stations)"
   ]
  },
  {
   "cell_type": "code",
   "execution_count": 451,
   "metadata": {},
   "outputs": [
    {
     "name": "stdout",
     "output_type": "stream",
     "text": [
      "('USC00519397', 1)\n",
      "('USC00513117', 2)\n",
      "('USC00514830', 3)\n",
      "('USC00517948', 4)\n",
      "('USC00518838', 5)\n",
      "('USC00519523', 6)\n",
      "('USC00519281', 7)\n",
      "('USC00511918', 8)\n",
      "('USC00516128', 9)\n"
     ]
    }
   ],
   "source": [
    "for row in session.query(station.station, station.id).all():\n",
    "    print(row)"
   ]
  },
  {
   "cell_type": "code",
   "execution_count": 452,
   "metadata": {},
   "outputs": [
    {
     "name": "stdout",
     "output_type": "stream",
     "text": [
      "[('USC00519281', 2772), ('USC00519397', 2724), ('USC00513117', 2709), ('USC00519523', 2669), ('USC00516128', 2612), ('USC00514830', 2202), ('USC00511918', 1979), ('USC00517948', 1372), ('USC00518838', 511)]\n"
     ]
    }
   ],
   "source": [
    "# Design a query to find the most active stations (i.e. what stations have the most rows?)\n",
    "\n",
    "activity_counts = session.query(measurement.station, func.count(measurement.station)).\\\n",
    "                  group_by(measurement.station).\\\n",
    "                  order_by(func.count(measurement.station).desc()).all()\n",
    "\n",
    "print(activity_counts)"
   ]
  },
  {
   "cell_type": "code",
   "execution_count": 453,
   "metadata": {},
   "outputs": [
    {
     "name": "stdout",
     "output_type": "stream",
     "text": [
      "2724\n"
     ]
    }
   ],
   "source": [
    "USC00519397 = session.query(measurement).filter_by(station='USC00519397').count()\n",
    "print(USC00519397)\n"
   ]
  },
  {
   "cell_type": "code",
   "execution_count": 454,
   "metadata": {},
   "outputs": [
    {
     "name": "stdout",
     "output_type": "stream",
     "text": [
      "2709\n"
     ]
    }
   ],
   "source": [
    "USC00513117 = session.query(measurement).filter_by(station='USC00513117').count()\n",
    "print(USC00513117)"
   ]
  },
  {
   "cell_type": "code",
   "execution_count": 455,
   "metadata": {},
   "outputs": [
    {
     "name": "stdout",
     "output_type": "stream",
     "text": [
      "2202\n"
     ]
    }
   ],
   "source": [
    "USC00514830 = session.query(measurement).filter_by(station='USC00514830').count()\n",
    "print(USC00514830)"
   ]
  },
  {
   "cell_type": "code",
   "execution_count": 456,
   "metadata": {},
   "outputs": [
    {
     "name": "stdout",
     "output_type": "stream",
     "text": [
      "1372\n"
     ]
    }
   ],
   "source": [
    "USC00517948 = session.query(measurement).filter_by(station='USC00517948').count()\n",
    "print(USC00517948)"
   ]
  },
  {
   "cell_type": "code",
   "execution_count": 457,
   "metadata": {},
   "outputs": [
    {
     "name": "stdout",
     "output_type": "stream",
     "text": [
      "511\n"
     ]
    }
   ],
   "source": [
    "USC00518838 = session.query(measurement).filter_by(station='USC00518838').count()\n",
    "print(USC00518838)"
   ]
  },
  {
   "cell_type": "code",
   "execution_count": 458,
   "metadata": {},
   "outputs": [
    {
     "name": "stdout",
     "output_type": "stream",
     "text": [
      "2669\n"
     ]
    }
   ],
   "source": [
    "USC00519523 = session.query(measurement).filter_by(station='USC00519523').count()\n",
    "print(USC00519523)"
   ]
  },
  {
   "cell_type": "code",
   "execution_count": 459,
   "metadata": {},
   "outputs": [
    {
     "name": "stdout",
     "output_type": "stream",
     "text": [
      "2772\n"
     ]
    }
   ],
   "source": [
    "USC00519281 = session.query(measurement).filter_by(station='USC00519281').count()\n",
    "print(USC00519281)"
   ]
  },
  {
   "cell_type": "code",
   "execution_count": 460,
   "metadata": {},
   "outputs": [
    {
     "name": "stdout",
     "output_type": "stream",
     "text": [
      "1979\n"
     ]
    }
   ],
   "source": [
    "USC00511918 = session.query(measurement).filter_by(station='USC00511918').count()\n",
    "print(USC00511918)"
   ]
  },
  {
   "cell_type": "code",
   "execution_count": 461,
   "metadata": {},
   "outputs": [
    {
     "name": "stdout",
     "output_type": "stream",
     "text": [
      "2612\n"
     ]
    }
   ],
   "source": [
    "USC00516128 = session.query(measurement).filter_by(station='USC00516128').count()\n",
    "print(USC00516128)"
   ]
  },
  {
   "cell_type": "code",
   "execution_count": 462,
   "metadata": {},
   "outputs": [
    {
     "name": "stdout",
     "output_type": "stream",
     "text": [
      "       Station  ID  Amount\n",
      "6  USC00519281   7    2772\n",
      "0  USC00519397   1    2724\n",
      "1  USC00513117   2    2709\n",
      "5  USC00519523   6    2669\n",
      "8  USC00516128   9    2612\n",
      "2  USC00514830   3    2202\n",
      "7  USC00511918   8    1979\n",
      "3  USC00517948   4    1372\n",
      "4  USC00518838   5     511\n",
      "Station 7, USC00519281, is the most active station\n"
     ]
    }
   ],
   "source": [
    "# List the stations and the counts in descending order.\n",
    "\n",
    "active_station_df = pd.DataFrame({\"Station\": ['USC00519397','USC00513117','USC00514830','USC00517948','USC00518838','USC00519523','USC00519281','USC00511918','USC00516128'],\"ID\":[1,2,3,4,5,6,7,8,9], \"Amount\": [2724,2709,2202,1372,511,2669,2772,1979,2612]})\n",
    "new_active_station_df = active_station_df.sort_values(by=\"Amount\", ascending=False)\n",
    "\n",
    "print(new_active_station_df)\n",
    "\n",
    "print(\"Station 7, USC00519281, is the most active station\")\n",
    " "
   ]
  },
  {
   "cell_type": "code",
   "execution_count": 463,
   "metadata": {},
   "outputs": [
    {
     "name": "stdout",
     "output_type": "stream",
     "text": [
      "[(54.0, 85.0, 71.66378066378067)]\n"
     ]
    }
   ],
   "source": [
    "# Using the most active station id from the previous query, calculate the lowest, highest, and average temperature.\n",
    "\n",
    "temp = session.query(func.min(measurement.tobs), func.max(measurement.tobs), func.avg(measurement.tobs)).\\\n",
    "                         filter(measurement.station == activity_counts[0][0]).all()      \n",
    "\n",
    "print(temp)\n",
    "\n",
    "                         "
   ]
  },
  {
   "cell_type": "code",
   "execution_count": 464,
   "metadata": {},
   "outputs": [],
   "source": [
    "# Using the most active station id\n",
    "# Query the last 12 months of temperature observation data for this station and plot the results as a histogram\n",
    "\n",
    "active_station = session.query(measurement.station, measurement.tobs).\\\n",
    "      filter(measurement.station == 'USC00519281').\\\n",
    "      filter(measurement.date >= '2016-08-23').all()"
   ]
  },
  {
   "cell_type": "code",
   "execution_count": 465,
   "metadata": {},
   "outputs": [
    {
     "name": "stdout",
     "output_type": "stream",
     "text": [
      "       Station  Temperature\n",
      "0  USC00519281         77.0\n",
      "1  USC00519281         77.0\n",
      "2  USC00519281         80.0\n",
      "3  USC00519281         80.0\n",
      "4  USC00519281         75.0\n"
     ]
    }
   ],
   "source": [
    "# Dataframe of Active Station \n",
    "\n",
    "active_station_df = pd.DataFrame(active_station, columns=['Station', 'Temperature'])\n",
    "print(active_station_df.head())"
   ]
  },
  {
   "cell_type": "code",
   "execution_count": 466,
   "metadata": {},
   "outputs": [
    {
     "data": {
      "image/png": "[encoded data removed]",
      "text/plain": [
       "<Figure size 432x288 with 1 Axes>"
      ]
     },
     "metadata": {},
     "output_type": "display_data"
    }
   ],
   "source": [
    "graph = active_station_df.plot.hist(bins=12, color=\"red\")\n",
    "graph.set_title(\"Histogram of Temperature for Active Station\")\n",
    "graph.set_xlabel(\"Temperature\")\n",
    "plt.tight_layout()\n",
    "plt.show()"
   ]
  },
  {
   "cell_type": "markdown",
   "metadata": {},
   "source": [
    "# Close session"
   ]
  },
  {
   "cell_type": "code",
   "execution_count": 467,
   "metadata": {},
   "outputs": [],
   "source": [
    "# Close Session\n",
    "session.close()"
   ]
  },
  {
   "cell_type": "code",
   "execution_count": null,
   "metadata": {},
   "outputs": [],
   "source": []
  }
 ],
 "metadata": {
  "anaconda-cloud": {},
  "kernel_info": {
   "name": "python3"
  },
  "kernelspec": {
   "display_name": "Python 3",
   "language": "python",
   "name": "python3"
  },
  "language_info": {
   "codemirror_mode": {
    "name": "ipython",
    "version": 3
   },
   "file_extension": ".py",
   "mimetype": "text/x-python",
   "name": "python",
   "nbconvert_exporter": "python",
   "pygments_lexer": "ipython3",
   "version": "3.6.10"
  },
  "nteract": {
   "version": "0.12.3"
  },
  "varInspector": {
   "cols": {
    "lenName": 16,
    "lenType": 16,
    "lenVar": 40
   },
   "kernels_config": {
    "python": {
     "delete_cmd_postfix": "",
     "delete_cmd_prefix": "del ",
     "library": "var_list.py",
     "varRefreshCmd": "print(var_dic_list())"
    },
    "r": {
     "delete_cmd_postfix": ") ",
     "delete_cmd_prefix": "rm(",
     "library": "var_list.r",
     "varRefreshCmd": "cat(var_dic_list()) "
    }
   },
   "types_to_exclude": [
    "module",
    "function",
    "builtin_function_or_method",
    "instance",
    "_Feature"
   ],
   "window_display": false
  }
 },
 "nbformat": 4,
 "nbformat_minor": 2
}
